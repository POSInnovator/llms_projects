{
 "cells": [
  {
   "cell_type": "code",
   "execution_count": 99,
   "metadata": {},
   "outputs": [],
   "source": [
    "import pandas as pd\n",
    "import chromadb\n"
   ]
  },
  {
   "cell_type": "code",
   "execution_count": 100,
   "metadata": {},
   "outputs": [
    {
     "data": {
      "text/html": [
       "<div>\n",
       "<style scoped>\n",
       "    .dataframe tbody tr th:only-of-type {\n",
       "        vertical-align: middle;\n",
       "    }\n",
       "\n",
       "    .dataframe tbody tr th {\n",
       "        vertical-align: top;\n",
       "    }\n",
       "\n",
       "    .dataframe thead th {\n",
       "        text-align: right;\n",
       "    }\n",
       "</style>\n",
       "<table border=\"1\" class=\"dataframe\">\n",
       "  <thead>\n",
       "    <tr style=\"text-align: right;\">\n",
       "      <th></th>\n",
       "      <th>product_id</th>\n",
       "      <th>title</th>\n",
       "      <th>desc</th>\n",
       "      <th>meta_data</th>\n",
       "    </tr>\n",
       "  </thead>\n",
       "  <tbody>\n",
       "    <tr>\n",
       "      <th>0</th>\n",
       "      <td>P001</td>\n",
       "      <td>Apple iPhone 15</td>\n",
       "      <td>Latest iPhone with A16 Bionic chip and improve...</td>\n",
       "      <td>{\"brand\": \"Apple\", \"category\": \"Smartphone\", \"...</td>\n",
       "    </tr>\n",
       "    <tr>\n",
       "      <th>1</th>\n",
       "      <td>P002</td>\n",
       "      <td>Samsung Galaxy S23</td>\n",
       "      <td>Flagship Android phone with Snapdragon 8 Gen 2</td>\n",
       "      <td>{\"brand\": \"Samsung\", \"category\": \"Smartphone\",...</td>\n",
       "    </tr>\n",
       "    <tr>\n",
       "      <th>2</th>\n",
       "      <td>P003</td>\n",
       "      <td>Sony WH-1000XM5</td>\n",
       "      <td>Noise-canceling wireless headphones</td>\n",
       "      <td>{\"brand\": \"Sony\", \"category\": \"Headphones\", \"p...</td>\n",
       "    </tr>\n",
       "    <tr>\n",
       "      <th>3</th>\n",
       "      <td>P004</td>\n",
       "      <td>Dell XPS 15</td>\n",
       "      <td>High-performance laptop with Intel Core i9</td>\n",
       "      <td>{\"brand\": \"Dell\", \"category\": \"Laptop\", \"price...</td>\n",
       "    </tr>\n",
       "    <tr>\n",
       "      <th>4</th>\n",
       "      <td>P005</td>\n",
       "      <td>Logitech MX Master 3</td>\n",
       "      <td>Ergonomic wireless mouse for productivity</td>\n",
       "      <td>{\"brand\": \"Logitech\", \"category\": \"Accessories...</td>\n",
       "    </tr>\n",
       "  </tbody>\n",
       "</table>\n",
       "</div>"
      ],
      "text/plain": [
       "  product_id                 title  \\\n",
       "0       P001       Apple iPhone 15   \n",
       "1       P002    Samsung Galaxy S23   \n",
       "2       P003       Sony WH-1000XM5   \n",
       "3       P004           Dell XPS 15   \n",
       "4       P005  Logitech MX Master 3   \n",
       "\n",
       "                                                desc  \\\n",
       "0  Latest iPhone with A16 Bionic chip and improve...   \n",
       "1     Flagship Android phone with Snapdragon 8 Gen 2   \n",
       "2                Noise-canceling wireless headphones   \n",
       "3         High-performance laptop with Intel Core i9   \n",
       "4          Ergonomic wireless mouse for productivity   \n",
       "\n",
       "                                           meta_data  \n",
       "0  {\"brand\": \"Apple\", \"category\": \"Smartphone\", \"...  \n",
       "1  {\"brand\": \"Samsung\", \"category\": \"Smartphone\",...  \n",
       "2  {\"brand\": \"Sony\", \"category\": \"Headphones\", \"p...  \n",
       "3  {\"brand\": \"Dell\", \"category\": \"Laptop\", \"price...  \n",
       "4  {\"brand\": \"Logitech\", \"category\": \"Accessories...  "
      ]
     },
     "execution_count": 100,
     "metadata": {},
     "output_type": "execute_result"
    }
   ],
   "source": [
    "df = pd.read_csv(\"sample_products.csv\")\n",
    "df.head(5)"
   ]
  },
  {
   "cell_type": "markdown",
   "metadata": {},
   "source": [
    "## Chroma DB Setup In Memory"
   ]
  },
  {
   "cell_type": "code",
   "execution_count": 101,
   "metadata": {},
   "outputs": [],
   "source": [
    "# Chroma DB client to interact with the Chroma DB\n",
    "chromadb_client = chromadb.Client()\n",
    "\n",
    "# Creating a collection named as product to store the vector embeddings of the products data\n",
    "product_collection = chromadb_client.create_collection(name='products')"
   ]
  },
  {
   "cell_type": "markdown",
   "metadata": {},
   "source": [
    "### Data in ChromaDB needs to be list<str> so below we are converting it"
   ]
  },
  {
   "cell_type": "code",
   "execution_count": 102,
   "metadata": {},
   "outputs": [
    {
     "name": "stdout",
     "output_type": "stream",
     "text": [
      "Index of the dataframe : [0, 1, 2, 3, 4, 5, 6, 7, 8, 9]\n",
      "Convert the indexes into string :  ['0', '1', '2', '3', '4', '5', '6', '7', '8', '9']\n"
     ]
    }
   ],
   "source": [
    "# Index of the dataframe\n",
    "print(f'Index of the dataframe : {df.index.tolist()}')\n",
    "\n",
    "# Conver the indexes into String\n",
    "print('Convert the indexes into string : ', [f'{index}' for index in df.index.tolist()])"
   ]
  },
  {
   "cell_type": "code",
   "execution_count": 103,
   "metadata": {},
   "outputs": [
    {
     "data": {
      "text/plain": [
       "['{\"brand\": \"Apple\", \"category\": \"Smartphone\", \"price\": \"999\"}',\n",
       " '{\"brand\": \"Samsung\", \"category\": \"Smartphone\", \"price\": \"899\"}',\n",
       " '{\"brand\": \"Sony\", \"category\": \"Headphones\", \"price\": \"399\"}',\n",
       " '{\"brand\": \"Dell\", \"category\": \"Laptop\", \"price\": \"1799\"}',\n",
       " '{\"brand\": \"Logitech\", \"category\": \"Accessories\", \"price\": \"99\"}',\n",
       " '{\"brand\": \"Apple\", \"category\": \"Wearables\", \"price\": \"499\"}',\n",
       " '{\"brand\": \"Amazon\", \"category\": \"Smart Home\", \"price\": \"49\"}',\n",
       " '{\"brand\": \"Bose\", \"category\": \"Audio\", \"price\": \"199\"}',\n",
       " '{\"brand\": \"Canon\", \"category\": \"Cameras\", \"price\": \"3499\"}',\n",
       " '{\"brand\": \"Samsung\", \"category\": \"TV\", \"price\": \"1199\"}']"
      ]
     },
     "execution_count": 103,
     "metadata": {},
     "output_type": "execute_result"
    }
   ],
   "source": [
    "type(df['meta_data'].tolist())\n",
    "df['meta_data'].tolist()"
   ]
  },
  {
   "cell_type": "code",
   "execution_count": 104,
   "metadata": {},
   "outputs": [
    {
     "data": {
      "text/plain": [
       "0    {\"brand\": \"Apple\", \"category\": \"Smartphone\", \"...\n",
       "1    {\"brand\": \"Samsung\", \"category\": \"Smartphone\",...\n",
       "2    {\"brand\": \"Sony\", \"category\": \"Headphones\", \"p...\n",
       "3    {\"brand\": \"Dell\", \"category\": \"Laptop\", \"price...\n",
       "4    {\"brand\": \"Logitech\", \"category\": \"Accessories...\n",
       "5    {\"brand\": \"Apple\", \"category\": \"Wearables\", \"p...\n",
       "6    {\"brand\": \"Amazon\", \"category\": \"Smart Home\", ...\n",
       "7    {\"brand\": \"Bose\", \"category\": \"Audio\", \"price\"...\n",
       "8    {\"brand\": \"Canon\", \"category\": \"Cameras\", \"pri...\n",
       "9    {\"brand\": \"Samsung\", \"category\": \"TV\", \"price\"...\n",
       "Name: meta_data, dtype: object"
      ]
     },
     "execution_count": 104,
     "metadata": {},
     "output_type": "execute_result"
    }
   ],
   "source": [
    "df['meta_data']"
   ]
  },
  {
   "cell_type": "code",
   "execution_count": 105,
   "metadata": {},
   "outputs": [
    {
     "data": {
      "text/plain": [
       "0    {'brand': 'Apple', 'category': 'Smartphone', '...\n",
       "1    {'brand': 'Samsung', 'category': 'Smartphone',...\n",
       "2    {'brand': 'Sony', 'category': 'Headphones', 'p...\n",
       "3    {'brand': 'Dell', 'category': 'Laptop', 'price...\n",
       "4    {'brand': 'Logitech', 'category': 'Accessories...\n",
       "5    {'brand': 'Apple', 'category': 'Wearables', 'p...\n",
       "6    {'brand': 'Amazon', 'category': 'Smart Home', ...\n",
       "7    {'brand': 'Bose', 'category': 'Audio', 'price'...\n",
       "8    {'brand': 'Canon', 'category': 'Cameras', 'pri...\n",
       "9    {'brand': 'Samsung', 'category': 'TV', 'price'...\n",
       "Name: meta_data, dtype: object"
      ]
     },
     "execution_count": 105,
     "metadata": {},
     "output_type": "execute_result"
    }
   ],
   "source": [
    "import json\n",
    "df['meta_data'] = df['meta_data'].apply(lambda x: json.loads(x) if isinstance(x, str) else x)\n",
    "df['meta_data'] "
   ]
  },
  {
   "cell_type": "code",
   "execution_count": 106,
   "metadata": {},
   "outputs": [],
   "source": [
    "# Add data to the collection. By default if not specified it will use its own embedding algo.\n",
    "product_collection.add(\n",
    "    ids=[f'{index}' for index in df.index.tolist()],\n",
    "    documents=df['desc'].tolist(),\n",
    "    metadatas=df['meta_data'].tolist()\n",
    ")"
   ]
  },
  {
   "cell_type": "code",
   "execution_count": 107,
   "metadata": {},
   "outputs": [],
   "source": [
    "# Upsert also works\n",
    "product_collection.upsert(\n",
    "    ids=[f'{index}' for index in df.index.tolist()],\n",
    "    documents=df['desc'].tolist(),\n",
    "    metadatas=df['meta_data'].tolist()\n",
    ")"
   ]
  },
  {
   "cell_type": "markdown",
   "metadata": {},
   "source": [
    "### Vector Query "
   ]
  },
  {
   "cell_type": "code",
   "execution_count": 108,
   "metadata": {},
   "outputs": [
    {
     "data": {
      "text/plain": [
       "{'ids': [['4']],\n",
       " 'embeddings': None,\n",
       " 'documents': [['Ergonomic wireless mouse for productivity']],\n",
       " 'uris': None,\n",
       " 'data': None,\n",
       " 'metadatas': [[{'brand': 'Logitech',\n",
       "    'category': 'Accessories',\n",
       "    'price': '99'}]],\n",
       " 'distances': [[0.07587578147649765]],\n",
       " 'included': [<IncludeEnum.distances: 'distances'>,\n",
       "  <IncludeEnum.documents: 'documents'>,\n",
       "  <IncludeEnum.metadatas: 'metadatas'>]}"
      ]
     },
     "execution_count": 108,
     "metadata": {},
     "output_type": "execute_result"
    }
   ],
   "source": [
    "# Semantic search query \n",
    "query_string = \"Ergonomic wireless mouse\"\n",
    "result = product_collection.query(\n",
    "    query_texts=query_string,\n",
    "    n_results=1\n",
    ")\n",
    "result"
   ]
  },
  {
   "cell_type": "code",
   "execution_count": 109,
   "metadata": {},
   "outputs": [
    {
     "data": {
      "text/plain": [
       "{'ids': [['1']],\n",
       " 'embeddings': None,\n",
       " 'documents': [['Flagship Android phone with Snapdragon 8 Gen 2']],\n",
       " 'uris': None,\n",
       " 'data': None,\n",
       " 'metadatas': [[{'brand': 'Samsung',\n",
       "    'category': 'Smartphone',\n",
       "    'price': '899'}]],\n",
       " 'distances': [[1.7568835020065308]],\n",
       " 'included': [<IncludeEnum.distances: 'distances'>,\n",
       "  <IncludeEnum.documents: 'documents'>,\n",
       "  <IncludeEnum.metadatas: 'metadatas'>]}"
      ]
     },
     "execution_count": 109,
     "metadata": {},
     "output_type": "execute_result"
    }
   ],
   "source": [
    "# Semantic search query \n",
    "query_string = \"LangChain framework\"\n",
    "result = product_collection.query(\n",
    "    query_texts=query_string,\n",
    "    n_results=1\n",
    ")\n",
    "result"
   ]
  },
  {
   "cell_type": "code",
   "execution_count": 110,
   "metadata": {},
   "outputs": [],
   "source": [
    "#Delete the collection\n",
    "#chromadb_client.delete_collection(name='products')"
   ]
  },
  {
   "cell_type": "code",
   "execution_count": 111,
   "metadata": {},
   "outputs": [],
   "source": [
    "from chromadb.config import Settings"
   ]
  },
  {
   "cell_type": "code",
   "execution_count": null,
   "metadata": {},
   "outputs": [],
   "source": [
    "# ChromaDB setup\n",
    "chromadb_client = chromadb.Client(Settings(\n",
    "    persist_directory = \"db/chorma_products-db\",\n",
    "    chroma_db_impl = \"duckdb+parquet\"\n",
    "))\n"
   ]
  }
 ],
 "metadata": {
  "kernelspec": {
   "display_name": ".venv",
   "language": "python",
   "name": "python3"
  },
  "language_info": {
   "codemirror_mode": {
    "name": "ipython",
    "version": 3
   },
   "file_extension": ".py",
   "mimetype": "text/x-python",
   "name": "python",
   "nbconvert_exporter": "python",
   "pygments_lexer": "ipython3",
   "version": "3.11.4"
  }
 },
 "nbformat": 4,
 "nbformat_minor": 2
}
